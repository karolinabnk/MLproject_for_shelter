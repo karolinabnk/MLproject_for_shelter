{
  "nbformat": 4,
  "nbformat_minor": 0,
  "metadata": {
    "colab": {
      "name": "Shelter_project_done",
      "provenance": [],
      "collapsed_sections": [],
      "machine_shape": "hm",
      "include_colab_link": true
    },
    "kernelspec": {
      "name": "python3",
      "display_name": "Python 3"
    },
    "accelerator": "GPU"
  },
  "cells": [
    {
      "cell_type": "markdown",
      "metadata": {
        "id": "view-in-github",
        "colab_type": "text"
      },
      "source": [
        "<a href=\"https://colab.research.google.com/github/karolinabnk/MLproject_for_shelter/blob/master/Shelter_project_done.ipynb\" target=\"_parent\"><img src=\"https://colab.research.google.com/assets/colab-badge.svg\" alt=\"Open In Colab\"/></a>"
      ]
    },
    {
      "cell_type": "markdown",
      "metadata": {
        "id": "uxQiSVzaz36b",
        "colab_type": "text"
      },
      "source": [
        "##0 Imports & loading data"
      ]
    },
    {
      "cell_type": "code",
      "metadata": {
        "id": "4u7CEQONzowM",
        "colab_type": "code",
        "colab": {}
      },
      "source": [
        "import numpy as np \n",
        "import pandas as pd\n",
        "from google.colab import files\n",
        "from matplotlib import pyplot\n",
        "from sklearn import metrics\n",
        "from sklearn.metrics import accuracy_score\n",
        "from sklearn.metrics import make_scorer\n",
        "from sklearn.metrics import f1_score\n",
        "import re\n",
        "from sklearn.preprocessing import StandardScaler\n",
        "from sklearn.model_selection import train_test_split\n",
        "from sklearn.neighbors import KNeighborsClassifier\n",
        "from sklearn import svm\n",
        "from sklearn.ensemble import RandomForestClassifier\n",
        "from sklearn.tree import DecisionTreeClassifier\n",
        "import xgboost as xgb\n",
        "from sklearn.model_selection import StratifiedKFold\n",
        "from sklearn.model_selection import GridSearchCV\n",
        "from sklearn.model_selection import cross_val_score\n"
      ],
      "execution_count": 1,
      "outputs": []
    },
    {
      "cell_type": "code",
      "metadata": {
        "id": "niy7DwuQzxcB",
        "colab_type": "code",
        "colab": {
          "resources": {
            "http://localhost:8080/nbextensions/google.colab/files.js": {
              "data": "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",
              "ok": true,
              "headers": [
                [
                  "content-type",
                  "application/javascript"
                ]
              ],
              "status": 200,
              "status_text": ""
            }
          },
          "base_uri": "https://localhost:8080/",
          "height": 73
        },
        "outputId": "cd010a12-98d3-4bfa-edd3-81105f1c5d94"
      },
      "source": [
        "uploaded = files.upload()"
      ],
      "execution_count": 2,
      "outputs": [
        {
          "output_type": "display_data",
          "data": {
            "text/html": [
              "\n",
              "     <input type=\"file\" id=\"files-247eac41-41fe-449f-938f-e56d73f098c8\" name=\"files[]\" multiple disabled\n",
              "        style=\"border:none\" />\n",
              "     <output id=\"result-247eac41-41fe-449f-938f-e56d73f098c8\">\n",
              "      Upload widget is only available when the cell has been executed in the\n",
              "      current browser session. Please rerun this cell to enable.\n",
              "      </output>\n",
              "      <script src=\"/nbextensions/google.colab/files.js\"></script> "
            ],
            "text/plain": [
              "<IPython.core.display.HTML object>"
            ]
          },
          "metadata": {
            "tags": []
          }
        },
        {
          "output_type": "stream",
          "text": [
            "Saving train.csv to train.csv\n"
          ],
          "name": "stdout"
        }
      ]
    },
    {
      "cell_type": "code",
      "metadata": {
        "id": "DXyXpjYazzID",
        "colab_type": "code",
        "colab": {}
      },
      "source": [
        "df = pd.read_csv('train.csv')"
      ],
      "execution_count": 3,
      "outputs": []
    },
    {
      "cell_type": "markdown",
      "metadata": {
        "id": "6l0Hyihqz_Fm",
        "colab_type": "text"
      },
      "source": [
        "##1 Data preprocessing "
      ]
    },
    {
      "cell_type": "markdown",
      "metadata": {
        "id": "T9yNMxgcpwEK",
        "colab_type": "text"
      },
      "source": [
        "###1.1 Mapping, deleting unnecessary features and missing values, getting dummies"
      ]
    },
    {
      "cell_type": "code",
      "metadata": {
        "id": "OtyfKOrD1PYw",
        "colab_type": "code",
        "colab": {}
      },
      "source": [
        "df = df.drop(['AnimalID','Name', 'DateTime','OutcomeSubtype','Color'], axis=1)\n",
        "df = df.dropna()\n"
      ],
      "execution_count": 4,
      "outputs": []
    },
    {
      "cell_type": "code",
      "metadata": {
        "id": "6Focfu1L0RFu",
        "colab_type": "code",
        "colab": {}
      },
      "source": [
        "def switch_age(argument):\n",
        "    words = argument.split()\n",
        "    #unit = re.sub(\"s\", \"\", words[1])\n",
        "    if(words[0]=='nan'):\n",
        "      return \n",
        "    multiplayer = int(words[0])\n",
        "    switcher = {\n",
        "        'day' : 1,\n",
        "        'days' : 1,\n",
        "        'week' : 7,\n",
        "        'weeks' : 7,\n",
        "        'month' : 30,\n",
        "        'months' : 30,\n",
        "        'year' : 365,\n",
        "        'years': 365\n",
        "    }\n",
        "    return multiplayer * switcher.get(words[1], 0)\n",
        "\n",
        "df['AgeuponOutcome'] = df['AgeuponOutcome'].astype(str)\n",
        "df['AgeuponOutcome'] = df['AgeuponOutcome'].map(switch_age)"
      ],
      "execution_count": 5,
      "outputs": []
    },
    {
      "cell_type": "code",
      "metadata": {
        "id": "NivKaqCG0hCR",
        "colab_type": "code",
        "colab": {}
      },
      "source": [
        "outcome_mapping = {label:idx for idx,label in enumerate(df['OutcomeType'].unique())}\n",
        "df['OutcomeType'] = df['OutcomeType'].map(outcome_mapping)"
      ],
      "execution_count": 6,
      "outputs": []
    },
    {
      "cell_type": "code",
      "metadata": {
        "id": "GvkNKA_I02VR",
        "colab_type": "code",
        "colab": {}
      },
      "source": [
        "sex_mapping = {label:idx for idx,label in enumerate(df['SexuponOutcome'].unique())}\n",
        "df['SexuponOutcome'] = df['SexuponOutcome'].map(sex_mapping)\n",
        "\n",
        "sex2 = df['SexuponOutcome'].copy()\n",
        "df['Neutred/Spayed'] = sex2"
      ],
      "execution_count": 7,
      "outputs": []
    },
    {
      "cell_type": "code",
      "metadata": {
        "id": "yYDnyuX40HOp",
        "colab_type": "code",
        "colab": {}
      },
      "source": [
        "sex_bin_mapping = {0:'male',1:'female',2:'male',3:'female',4:'unknown'}    \n",
        "neutred_mapping = {0:'neutred',1:'neutred',2:'intact',3:'intact',4:'intact'}\n",
        "\n",
        "df['SexuponOutcome'] = df['SexuponOutcome'].map(sex_bin_mapping)\n",
        "df['Neutred/Spayed'] = df['Neutred/Spayed'].map(neutred_mapping)\n"
      ],
      "execution_count": 8,
      "outputs": []
    },
    {
      "cell_type": "code",
      "metadata": {
        "id": "QjV7GIIN3m5I",
        "colab_type": "code",
        "colab": {}
      },
      "source": [
        "df['IsMix'] = df['Breed'].str.contains('mix',case=False)\n",
        "df = df.drop(['Breed'],axis=1)\n",
        "\n",
        "is_mix_to_string = {True:'mix', False:'notmix'}\n",
        "df['IsMix'] = df['IsMix'].map(is_mix_to_string)\n",
        "df = pd.get_dummies(df)"
      ],
      "execution_count": 9,
      "outputs": []
    },
    {
      "cell_type": "markdown",
      "metadata": {
        "id": "UW2Z8ZaX4D1B",
        "colab_type": "text"
      },
      "source": [
        "###1.2 Dividing, standarization"
      ]
    },
    {
      "cell_type": "code",
      "metadata": {
        "id": "cc12k4xV3-Fi",
        "colab_type": "code",
        "colab": {}
      },
      "source": [
        "X = df.loc[:,'AgeuponOutcome':'IsMix_notmix']\n",
        "y = df['OutcomeType']\n",
        "\n",
        "X_train, X_test, y_train, y_test = train_test_split(X, y, test_size = 0.3, random_state = 0) #Setting random_state a fixed value will guarantee that same sequence of random numbers are generated each time you run the code.\n",
        "scaler = StandardScaler()\n",
        "scaler.fit(X_train)\n",
        "X_train_std = scaler.transform(X_train)\n",
        "X_test_std=scaler.transform(X_test)\n"
      ],
      "execution_count": 10,
      "outputs": []
    },
    {
      "cell_type": "markdown",
      "metadata": {
        "id": "567s3LowqD8R",
        "colab_type": "text"
      },
      "source": [
        "###1.3 Making one additional vector only for adoption outcome"
      ]
    },
    {
      "cell_type": "code",
      "metadata": {
        "id": "YVxbcRu9i6w2",
        "colab_type": "code",
        "colab": {
          "base_uri": "https://localhost:8080/",
          "height": 107
        },
        "outputId": "795b61f3-ea1d-42de-f62e-306cd08b312f"
      },
      "source": [
        "outcome_mapping"
      ],
      "execution_count": 11,
      "outputs": [
        {
          "output_type": "execute_result",
          "data": {
            "text/plain": [
              "{'Adoption': 2,\n",
              " 'Died': 4,\n",
              " 'Euthanasia': 1,\n",
              " 'Return_to_owner': 0,\n",
              " 'Transfer': 3}"
            ]
          },
          "metadata": {
            "tags": []
          },
          "execution_count": 11
        }
      ]
    },
    {
      "cell_type": "code",
      "metadata": {
        "id": "1gtbU3iwjFIw",
        "colab_type": "code",
        "colab": {}
      },
      "source": [
        "adopt_map = {2:1,4:0,1:0,0:0,3:0}\n",
        "y_adopt_train = y_train.map(adopt_map)\n",
        "y_adopt_test = y_test.map(adopt_map)"
      ],
      "execution_count": 12,
      "outputs": []
    },
    {
      "cell_type": "markdown",
      "metadata": {
        "id": "8sxGZiFmeQfI",
        "colab_type": "text"
      },
      "source": [
        "#2. Different models evaluation\n"
      ]
    },
    {
      "cell_type": "markdown",
      "metadata": {
        "id": "aBAVU5bNq5Fi",
        "colab_type": "text"
      },
      "source": [
        "###2.1 K nearest neighbours\n",
        "\n"
      ]
    },
    {
      "cell_type": "code",
      "metadata": {
        "id": "lJ4mowyWrb3Y",
        "colab_type": "code",
        "colab": {
          "base_uri": "https://localhost:8080/",
          "height": 71
        },
        "outputId": "a2f145f3-f4d2-463b-fb82-094d2b3bd87b"
      },
      "source": [
        "knn = KNeighborsClassifier(n_neighbors=5,p=1)\n",
        "knn.fit(X_train_std,y_train)\n",
        "y_pred_knn = knn.predict(X_test_std)\n",
        "print('Accuracy: %3f' %accuracy_score(y_test,y_pred_knn))\n",
        "print('F1: %3f' %f1_score(y_test,y_pred_knn,average='micro'))\n",
        "print('F1 for predicting adoption: %3f' %f1_score (y_adopt_test,np.vectorize(adopt_map.get)(y_pred_knn),average=\"weighted\" ))"
      ],
      "execution_count": 13,
      "outputs": [
        {
          "output_type": "stream",
          "text": [
            "Accuracy: 0.567952\n",
            "F1: 0.567952\n",
            "F1 for predicting adoption: 0.711961\n"
          ],
          "name": "stdout"
        }
      ]
    },
    {
      "cell_type": "markdown",
      "metadata": {
        "id": "OME_kqEVsO9A",
        "colab_type": "text"
      },
      "source": [
        "###2.2 Kernel SVM"
      ]
    },
    {
      "cell_type": "code",
      "metadata": {
        "id": "Sk1X14w-s1AS",
        "colab_type": "code",
        "colab": {
          "base_uri": "https://localhost:8080/",
          "height": 71
        },
        "outputId": "3c252ceb-c823-49e4-8c33-fd97da097f65"
      },
      "source": [
        "svc = svm.SVC(kernel='poly', degree=4, C=1.0, random_state = 0)\n",
        "svc.fit(X_train_std,y_train)\n",
        "y_pred_svc = svc.predict(X_test_std)\n",
        "\n",
        "print('Accuracy score: %3f' %accuracy_score(y_test, y_pred_svc))\n",
        "print('F1: %3f' %f1_score(y_test,y_pred_svc,average='micro'))\n",
        "print('F1 for predicting adoption: %3f' %f1_score (y_adopt_test,np.vectorize(adopt_map.get)(y_pred_svc)))\n"
      ],
      "execution_count": 14,
      "outputs": [
        {
          "output_type": "stream",
          "text": [
            "Accuracy score: 0.630351\n",
            "F1: 0.630351\n",
            "F1 for predicting adoption: 0.723652\n"
          ],
          "name": "stdout"
        }
      ]
    },
    {
      "cell_type": "code",
      "metadata": {
        "id": "nRNp_gCzBmx_",
        "colab_type": "code",
        "colab": {
          "base_uri": "https://localhost:8080/",
          "height": 53
        },
        "outputId": "3403cacb-b228-4541-fb6e-f7f5447b9d35"
      },
      "source": [
        "clf = svm.SVC()\n",
        "scorer = make_scorer(f1_score,average='micro')\n",
        "grid_values = {'kernel': ['poly','rbf'], 'degree':[3,4,5], 'C':[0.001,0.01,1]}\n",
        "grid_clf = GridSearchCV(clf, param_grid=grid_values,scoring=scorer)\n",
        "grid_clf.fit(X_train_std,y_train)\n",
        "print(grid_clf.best_score_)\n",
        "print(grid_clf.best_params_)"
      ],
      "execution_count": 15,
      "outputs": [
        {
          "output_type": "stream",
          "text": [
            "0.630957017590279\n",
            "{'C': 1, 'degree': 5, 'kernel': 'poly'}\n"
          ],
          "name": "stdout"
        }
      ]
    },
    {
      "cell_type": "markdown",
      "metadata": {
        "id": "1VeGinJCtn4d",
        "colab_type": "text"
      },
      "source": [
        "###2.3 Decision tree & random forest"
      ]
    },
    {
      "cell_type": "code",
      "metadata": {
        "id": "HcKwfZ-MttMO",
        "colab_type": "code",
        "colab": {
          "base_uri": "https://localhost:8080/",
          "height": 71
        },
        "outputId": "d37f285c-ae86-4fa9-d6b0-c0ff864db343"
      },
      "source": [
        "tree = DecisionTreeClassifier(criterion='gini', random_state=0)\n",
        "tree.fit(X_train, y_train)\n",
        "y_pred_tree = tree.predict(X_test)\n",
        "\n",
        "print('Accuracy score: %2f' %accuracy_score(y_test, y_pred_tree))\n",
        "print('F1: %3f' %f1_score(y_test,y_pred_tree,average = 'micro'))\n",
        "print('F1 for predicting adoption: %3f' %f1_score (y_adopt_test,np.vectorize(adopt_map.get)(y_pred_tree) ))\n",
        "#pre_scorer = make_scorer(score_func=f1_score,pos_label=1,greater_is_better=True, average='micro')"
      ],
      "execution_count": 16,
      "outputs": [
        {
          "output_type": "stream",
          "text": [
            "Accuracy score: 0.629727\n",
            "F1: 0.629727\n",
            "F1 for predicting adoption: 0.719636\n"
          ],
          "name": "stdout"
        }
      ]
    },
    {
      "cell_type": "code",
      "metadata": {
        "id": "B8So3Jt9t8hF",
        "colab_type": "code",
        "colab": {
          "base_uri": "https://localhost:8080/",
          "height": 71
        },
        "outputId": "8b9c596a-2fba-4198-d28b-d95c5cf4afe5"
      },
      "source": [
        "forest = RandomForestClassifier(criterion='gini', n_estimators=1000, random_state=1, n_jobs=2)\n",
        "forest.fit(X_train, y_train)\n",
        "y_pred_forest = forest.predict(X_test)\n",
        "\n",
        "print('Accuracy score: %2f' %accuracy_score(y_test, y_pred_forest))\n",
        "print('F1: %3f' %f1_score(y_test,y_pred_forest,average = 'micro'))\n",
        "print('F1 for predicting adoption: %3f' %f1_score (y_adopt_test,np.vectorize(adopt_map.get)(y_pred_forest) ))"
      ],
      "execution_count": 17,
      "outputs": [
        {
          "output_type": "stream",
          "text": [
            "Accuracy score: 0.630975\n",
            "F1: 0.630975\n",
            "F1 for predicting adoption: 0.721460\n"
          ],
          "name": "stdout"
        }
      ]
    },
    {
      "cell_type": "markdown",
      "metadata": {
        "id": "DnUluuWIvwPK",
        "colab_type": "text"
      },
      "source": [
        "###2.4 XGBoost"
      ]
    },
    {
      "cell_type": "code",
      "metadata": {
        "id": "sTmSYF-OeUUP",
        "colab_type": "code",
        "colab": {
          "base_uri": "https://localhost:8080/",
          "height": 71
        },
        "outputId": "fa59a674-3d14-4601-cd7e-757920435548"
      },
      "source": [
        "xgb_clas = xgb.XGBClassifier()\n",
        "xgb_clas.fit(X_train,y_train)\n",
        "y_pred_xgb = xgb_clas.predict(X_test)\n",
        "print('Accuracy score: %2f' %accuracy_score(y_test, y_pred_xgb))\n",
        "print('F1: %3f' %f1_score(y_test,y_pred_xgb,average = 'micro'))\n",
        "print('F1 for predicting adoption: %3f' %f1_score (y_adopt_test,np.vectorize(adopt_map.get)(y_pred_xgb) ))"
      ],
      "execution_count": 18,
      "outputs": [
        {
          "output_type": "stream",
          "text": [
            "Accuracy score: 0.630351\n",
            "F1: 0.630351\n",
            "F1 for predicting adoption: 0.720457\n"
          ],
          "name": "stdout"
        }
      ]
    },
    {
      "cell_type": "code",
      "metadata": {
        "id": "GPhNkpx4iQ96",
        "colab_type": "code",
        "colab": {
          "base_uri": "https://localhost:8080/",
          "height": 361
        },
        "outputId": "31e4dcbd-0a10-456e-b057-be15aa11a5ed"
      },
      "source": [
        "skf = StratifiedKFold(n_splits=15, random_state=1)\n",
        "skf.get_n_splits(X_train, y_train)\n",
        "k=0\n",
        "scores=[]\n",
        "\n",
        "for train, test in skf.split(X_train,y_train):\n",
        "  k=k+1\n",
        "  xgb_clas.fit(X_train.iloc[train],y_train.iloc[train])\n",
        "  preds = xgb_clas.predict(X_train.iloc[test])\n",
        "  score = f1_score(preds,y_train.iloc[test],average='micro') #xgb_clas.score(X_train[test], y_train.iloc[test])\n",
        "  score2 = f1_score (y_train.iloc[test].map(adopt_map),np.vectorize(adopt_map.get)(preds) )\n",
        "  scores.append(score)\n",
        "  print('Fold: %s, Prec: %.3f, Prec. for adoption: %3f' % (k, score,score2))\n",
        "\n",
        "print('CV accuracy: %.3f +/- %.3f' % (np.mean(scores), np.std(scores)))\n"
      ],
      "execution_count": 19,
      "outputs": [
        {
          "output_type": "stream",
          "text": [
            "/usr/local/lib/python3.6/dist-packages/sklearn/model_selection/_split.py:296: FutureWarning: Setting a random_state has no effect since shuffle is False. This will raise an error in 0.24. You should leave random_state to its default (None), or set shuffle=True.\n",
            "  FutureWarning\n"
          ],
          "name": "stderr"
        },
        {
          "output_type": "stream",
          "text": [
            "Fold: 1, Prec: 0.633, Prec. for adoption: 0.709565\n",
            "Fold: 2, Prec: 0.633, Prec. for adoption: 0.705680\n",
            "Fold: 3, Prec: 0.635, Prec. for adoption: 0.728033\n",
            "Fold: 4, Prec: 0.625, Prec. for adoption: 0.716239\n",
            "Fold: 5, Prec: 0.650, Prec. for adoption: 0.735319\n",
            "Fold: 6, Prec: 0.640, Prec. for adoption: 0.747253\n",
            "Fold: 7, Prec: 0.646, Prec. for adoption: 0.725862\n",
            "Fold: 8, Prec: 0.648, Prec. for adoption: 0.738033\n",
            "Fold: 9, Prec: 0.637, Prec. for adoption: 0.729131\n",
            "Fold: 10, Prec: 0.658, Prec. for adoption: 0.750427\n",
            "Fold: 11, Prec: 0.616, Prec. for adoption: 0.709677\n",
            "Fold: 12, Prec: 0.638, Prec. for adoption: 0.742475\n",
            "Fold: 13, Prec: 0.622, Prec. for adoption: 0.704082\n",
            "Fold: 14, Prec: 0.615, Prec. for adoption: 0.698492\n",
            "Fold: 15, Prec: 0.628, Prec. for adoption: 0.723695\n",
            "CV accuracy: 0.635 +/- 0.012\n"
          ],
          "name": "stdout"
        }
      ]
    },
    {
      "cell_type": "code",
      "metadata": {
        "id": "0GvI16E_x0Fe",
        "colab_type": "code",
        "colab": {
          "base_uri": "https://localhost:8080/",
          "height": 71
        },
        "outputId": "41d14131-9b2c-4925-eafd-46ba7ac40cab"
      },
      "source": [
        "preds = xgb_clas.predict(X_test)\n",
        "print('Accuracy score: %2f' %accuracy_score(y_test, preds))\n",
        "print('F1: %3f' %f1_score(y_test,preds,average = 'micro'))\n",
        "print('F1 for predicting adoption: %3f' %f1_score (y_adopt_test,np.vectorize(adopt_map.get)(preds) ))"
      ],
      "execution_count": 20,
      "outputs": [
        {
          "output_type": "stream",
          "text": [
            "Accuracy score: 0.628728\n",
            "F1: 0.628728\n",
            "F1 for predicting adoption: 0.719663\n"
          ],
          "name": "stdout"
        }
      ]
    },
    {
      "cell_type": "code",
      "metadata": {
        "id": "4jwcSHVFz39j",
        "colab_type": "code",
        "colab": {
          "base_uri": "https://localhost:8080/",
          "height": 53
        },
        "outputId": "09856236-5742-4455-88e5-e685b1048d68"
      },
      "source": [
        "clf=xgb.XGBClassifier()\n",
        "scorer = make_scorer(f1_score,average='micro')\n",
        "grid_values = {'max_depth':[3,5,10], 'learning_rate':[0.1,0.5,1], 'n_estimators':[10,50,100,500]}\n",
        "grid_clf = GridSearchCV(clf, param_grid=grid_values,scoring=scorer)\n",
        "grid_clf.fit(X_train,y_train)\n",
        "print(grid_clf.best_score_)\n",
        "print(grid_clf.best_params_)"
      ],
      "execution_count": 21,
      "outputs": [
        {
          "output_type": "stream",
          "text": [
            "0.6381771985703518\n",
            "{'learning_rate': 0.1, 'max_depth': 5, 'n_estimators': 50}\n"
          ],
          "name": "stdout"
        }
      ]
    },
    {
      "cell_type": "code",
      "metadata": {
        "id": "t4Ujm_T39OMz",
        "colab_type": "code",
        "colab": {
          "base_uri": "https://localhost:8080/",
          "height": 265
        },
        "outputId": "217caeec-8852-4b1a-ab7c-cd037b838f4d"
      },
      "source": [
        "clf.fit(X_train,y_train)\n",
        "pyplot.bar(range(len(clf.feature_importances_)), clf.feature_importances_)\n",
        "pyplot.show()\n"
      ],
      "execution_count": 22,
      "outputs": [
        {
          "output_type": "display_data",
          "data": {
            "image/png": "[encoded data removed]",
            "text/plain": [
              "<Figure size 432x288 with 1 Axes>"
            ]
          },
          "metadata": {
            "tags": [],
            "needs_background": "light"
          }
        }
      ]
    },
    {
      "cell_type": "code",
      "metadata": {
        "id": "iDFDIua13wq6",
        "colab_type": "code",
        "colab": {
          "base_uri": "https://localhost:8080/",
          "height": 196
        },
        "outputId": "8d46c08c-cfa3-4b43-9a67-c4f49c2957c8"
      },
      "source": [
        "df.head()"
      ],
      "execution_count": 23,
      "outputs": [
        {
          "output_type": "execute_result",
          "data": {
            "text/html": [
              "<div>\n",
              "<style scoped>\n",
              "    .dataframe tbody tr th:only-of-type {\n",
              "        vertical-align: middle;\n",
              "    }\n",
              "\n",
              "    .dataframe tbody tr th {\n",
              "        vertical-align: top;\n",
              "    }\n",
              "\n",
              "    .dataframe thead th {\n",
              "        text-align: right;\n",
              "    }\n",
              "</style>\n",
              "<table border=\"1\" class=\"dataframe\">\n",
              "  <thead>\n",
              "    <tr style=\"text-align: right;\">\n",
              "      <th></th>\n",
              "      <th>OutcomeType</th>\n",
              "      <th>AgeuponOutcome</th>\n",
              "      <th>AnimalType_Cat</th>\n",
              "      <th>AnimalType_Dog</th>\n",
              "      <th>SexuponOutcome_female</th>\n",
              "      <th>SexuponOutcome_male</th>\n",
              "      <th>SexuponOutcome_unknown</th>\n",
              "      <th>Neutred/Spayed_intact</th>\n",
              "      <th>Neutred/Spayed_neutred</th>\n",
              "      <th>IsMix_mix</th>\n",
              "      <th>IsMix_notmix</th>\n",
              "    </tr>\n",
              "  </thead>\n",
              "  <tbody>\n",
              "    <tr>\n",
              "      <th>0</th>\n",
              "      <td>0</td>\n",
              "      <td>365</td>\n",
              "      <td>0</td>\n",
              "      <td>1</td>\n",
              "      <td>0</td>\n",
              "      <td>1</td>\n",
              "      <td>0</td>\n",
              "      <td>0</td>\n",
              "      <td>1</td>\n",
              "      <td>1</td>\n",
              "      <td>0</td>\n",
              "    </tr>\n",
              "    <tr>\n",
              "      <th>1</th>\n",
              "      <td>1</td>\n",
              "      <td>365</td>\n",
              "      <td>1</td>\n",
              "      <td>0</td>\n",
              "      <td>1</td>\n",
              "      <td>0</td>\n",
              "      <td>0</td>\n",
              "      <td>0</td>\n",
              "      <td>1</td>\n",
              "      <td>1</td>\n",
              "      <td>0</td>\n",
              "    </tr>\n",
              "    <tr>\n",
              "      <th>2</th>\n",
              "      <td>2</td>\n",
              "      <td>730</td>\n",
              "      <td>0</td>\n",
              "      <td>1</td>\n",
              "      <td>0</td>\n",
              "      <td>1</td>\n",
              "      <td>0</td>\n",
              "      <td>0</td>\n",
              "      <td>1</td>\n",
              "      <td>1</td>\n",
              "      <td>0</td>\n",
              "    </tr>\n",
              "    <tr>\n",
              "      <th>3</th>\n",
              "      <td>3</td>\n",
              "      <td>21</td>\n",
              "      <td>1</td>\n",
              "      <td>0</td>\n",
              "      <td>0</td>\n",
              "      <td>1</td>\n",
              "      <td>0</td>\n",
              "      <td>1</td>\n",
              "      <td>0</td>\n",
              "      <td>1</td>\n",
              "      <td>0</td>\n",
              "    </tr>\n",
              "    <tr>\n",
              "      <th>4</th>\n",
              "      <td>3</td>\n",
              "      <td>730</td>\n",
              "      <td>0</td>\n",
              "      <td>1</td>\n",
              "      <td>0</td>\n",
              "      <td>1</td>\n",
              "      <td>0</td>\n",
              "      <td>0</td>\n",
              "      <td>1</td>\n",
              "      <td>0</td>\n",
              "      <td>1</td>\n",
              "    </tr>\n",
              "  </tbody>\n",
              "</table>\n",
              "</div>"
            ],
            "text/plain": [
              "   OutcomeType  AgeuponOutcome  ...  IsMix_mix  IsMix_notmix\n",
              "0            0             365  ...          1             0\n",
              "1            1             365  ...          1             0\n",
              "2            2             730  ...          1             0\n",
              "3            3              21  ...          1             0\n",
              "4            3             730  ...          0             1\n",
              "\n",
              "[5 rows x 11 columns]"
            ]
          },
          "metadata": {
            "tags": []
          },
          "execution_count": 23
        }
      ]
    }
  ]
}
